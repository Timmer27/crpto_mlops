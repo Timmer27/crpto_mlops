{
 "cells": [
  {
   "cell_type": "code",
   "execution_count": null,
   "metadata": {},
   "outputs": [],
   "source": [
    "from __future__ import (absolute_import, division, print_function,unicode_literals)\n",
    "\n",
    "import yfinance as yf\n",
    "import pandas as pd\n",
    "import backtrader as bt\n",
    "from datetime import datetime\n",
    "import os\n",
    "import sys\n",
    "import json\n",
    "from backtrader.analyzers import Returns,DrawDown,SharpeRatio,TradeAnalyzer"
   ]
  },
  {
   "cell_type": "code",
   "execution_count": 1,
   "metadata": {},
   "outputs": [],
   "source": [
    "# import strategies\n",
    "sys.path.append('../strategies/')\n",
    "from  Test_strategy import TestStrategy\n",
    "from sma import SMA\n",
    "from sma_rsi import SMA_RSI"
   ]
  },
  {
   "cell_type": "code",
   "execution_count": null,
   "metadata": {},
   "outputs": [],
   "source": [
    "def prepare_cerebro(asset,strategy,data_path,start_date:str,end_date:str=datetime.now(),cash:int=100,commission:float=0)->bt.Cerebro:\n",
    "    if end_date ==None:\n",
    "        end_date= datetime.strftime(datetime.now(),\"%Y-%m-%d\")\n",
    "\n",
    "    cerebro = bt.Cerebro()\n",
    "    cerebro.broker.setcash(cash)\n",
    "    cerebro.broker.setcommission(commission=commission)\n",
    "    cerebro.addstrategy(strategy)\n",
    "    \n",
    "    isExist = os.path.exists(data_path)\n",
    "    if not isExist:\n",
    "        data= yf.download(asset,start_date,end=end_date)\n",
    "        data.to_csv(data_path)\n",
    "    \n",
    "    data = bt.feeds.YahooFinanceCSVData(\n",
    "        dataname=data_path,\n",
    "        fromdate=datetime.strptime(start_date,\"%Y-%m-%d\"),\n",
    "        todate=datetime.strptime(end_date,\"%Y-%m-%d\"),\n",
    "        reverse=False\n",
    "    )\n",
    "\n",
    "    cerebro.adddata(data)\n",
    "    # cerebro.addanalyzer(AnnualReturn)\n",
    "    cerebro.addanalyzer(TradeAnalyzer)\n",
    "    return cerebro"
   ]
  },
  {
   "cell_type": "code",
   "execution_count": null,
   "metadata": {},
   "outputs": [],
   "source": [
    "def run_test(cerebro:bt.Cerebro):\n",
    "\n",
    "    result={}\n",
    "\n",
    "    cerebro.addanalyzer(SharpeRatio, _name='sharpe')\n",
    "    cerebro.addanalyzer(Returns, _name='returns')\n",
    "    cerebro.addanalyzer(DrawDown, _name='draw')\n",
    "    cerebro.addanalyzer(TradeAnalyzer, _name='trade')\n",
    "    \n",
    "    starting = cerebro.broker.getvalue()\n",
    "    res=cerebro.run()\n",
    "    final=cerebro.broker.getvalue()\n",
    "\n",
    "    thestrat = res[0]\n",
    "\n",
    "    sharpe=thestrat.analyzers.sharpe.get_analysis()\n",
    "    return_val=thestrat.analyzers.returns.get_analysis()\n",
    "    drawdown=thestrat.analyzers.draw.get_analysis()\n",
    "    trade=thestrat.analyzers.trade.get_analysis()\n",
    "\n",
    "    result[\"sharpe_ratio\"]=sharpe['sharperatio']\n",
    "    result[\"return\"]=return_val['rtot']\n",
    "    result['max_drawdown'] = drawdown['max']['drawdown']\n",
    "    \n",
    "    try:\n",
    "        result['win_trade']=trade['won']['total']\n",
    "    except:\n",
    "        result['win_trade']=\"Undefined\"\n",
    "    \n",
    "    try:\n",
    "        result['loss_trade']=trade['lost']['total']\n",
    "    except:\n",
    "        result['loss_trade']=\"Undefined\"\n",
    "\n",
    "    try:\n",
    "        result['total_trade']=trade['total']['total']\n",
    "    except:\n",
    "        result['total_trade']=\"Undefined\"\n",
    "\n",
    "    result['start_portfolio']=starting\n",
    "    result['final_portfolio']=final\n",
    "\n",
    "    return result"
   ]
  },
  {
   "cell_type": "code",
   "execution_count": 6,
   "metadata": {},
   "outputs": [
    {
     "data": {
      "text/plain": [
       "{'sharpe_ratio': -1.341647893648845,\n",
       " 'return': -0.10070470412163227,\n",
       " 'max_drawdown': 9.625187406296847,\n",
       " 'win_trade': 'Undefined',\n",
       " 'loss_trade': 'Undefined',\n",
       " 'total_trade': 1,\n",
       " 'start_portfolio': 100,\n",
       " 'final_portfolio': 90.42}"
      ]
     },
     "execution_count": 6,
     "metadata": {},
     "output_type": "execute_result"
    }
   ],
   "source": [
    "cerebro=prepare_cerebro('BTC',TestStrategy,\"btc.csv\",\"2021-10-01\",\"2022-10-19\")\n",
    "\n",
    "result=run_test(cerebro)\n",
    "result\n"
   ]
  },
  {
   "cell_type": "code",
   "execution_count": 7,
   "metadata": {},
   "outputs": [
    {
     "data": {
      "text/plain": [
       "{'sharpe_ratio': -3.119131412713244,\n",
       " 'return': -0.019284761411866646,\n",
       " 'max_drawdown': 2.8770532603284797,\n",
       " 'win_trade': 7,\n",
       " 'loss_trade': 8,\n",
       " 'total_trade': 15,\n",
       " 'start_portfolio': 100,\n",
       " 'final_portfolio': 98.09000000000005}"
      ]
     },
     "execution_count": 7,
     "metadata": {},
     "output_type": "execute_result"
    }
   ],
   "source": [
    "cerebro=prepare_cerebro('BTC',SMA,\"btc.csv\",\"2021-10-01\",\"2022-10-19\")\n",
    "result=run_test(cerebro)\n",
    "result"
   ]
  },
  {
   "cell_type": "code",
   "execution_count": 8,
   "metadata": {},
   "outputs": [
    {
     "data": {
      "text/plain": [
       "{'sharpe_ratio': -2.874119304837948,\n",
       " 'return': -0.01846951628366087,\n",
       " 'max_drawdown': 2.359999999999957,\n",
       " 'win_trade': 6,\n",
       " 'loss_trade': 7,\n",
       " 'total_trade': 13,\n",
       " 'start_portfolio': 100,\n",
       " 'final_portfolio': 98.17000000000004}"
      ]
     },
     "execution_count": 8,
     "metadata": {},
     "output_type": "execute_result"
    }
   ],
   "source": [
    "cerebro=prepare_cerebro('BTC',SMA_RSI,\"btc.csv\",\"2021-10-01\",\"2022-10-19\")\n",
    "result=run_test(cerebro)\n",
    "result"
   ]
  },
  {
   "cell_type": "markdown",
   "metadata": {},
   "source": [
    "## Test our backtester class"
   ]
  },
  {
   "cell_type": "code",
   "execution_count": 3,
   "metadata": {},
   "outputs": [],
   "source": [
    "sys.path.append(\"../scripts/\")\n",
    "from backtester import backtester\n",
    "tester = backtester()"
   ]
  },
  {
   "cell_type": "code",
   "execution_count": 6,
   "metadata": {},
   "outputs": [
    {
     "data": {
      "text/plain": [
       "{'sharpe_ratio': -2.874119304837948,\n",
       " 'return': -0.01846951628366087,\n",
       " 'max_drawdown': 2.359999999999957,\n",
       " 'win_trade': 6,\n",
       " 'loss_trade': 7,\n",
       " 'total_trade': 13,\n",
       " 'start_portfolio': 100,\n",
       " 'final_portfolio': 98.17000000000004}"
      ]
     },
     "execution_count": 6,
     "metadata": {},
     "output_type": "execute_result"
    }
   ],
   "source": [
    "cerebro=tester.prepare_cerebro(asset='BTC',strategy=SMA_RSI,start_date=\"2021-10-01\",end_date=\"2022-10-19\")\n",
    "result=tester.run_test(cerebro)\n",
    "result"
   ]
  },
  {
   "cell_type": "code",
   "execution_count": 7,
   "metadata": {},
   "outputs": [
    {
     "data": {
      "text/plain": [
       "{'sharpe_ratio': -3.119131412713244,\n",
       " 'return': -0.019284761411866646,\n",
       " 'max_drawdown': 2.8770532603284797,\n",
       " 'win_trade': 7,\n",
       " 'loss_trade': 8,\n",
       " 'total_trade': 15,\n",
       " 'start_portfolio': 100,\n",
       " 'final_portfolio': 98.09000000000005}"
      ]
     },
     "execution_count": 7,
     "metadata": {},
     "output_type": "execute_result"
    }
   ],
   "source": [
    "cerebro=tester.prepare_cerebro(asset='BTC',strategy=SMA,start_date=\"2021-10-01\",end_date=\"2022-10-19\")\n",
    "result=tester.run_test(cerebro)\n",
    "result"
   ]
  },
  {
   "cell_type": "code",
   "execution_count": 4,
   "metadata": {},
   "outputs": [
    {
     "data": {
      "text/plain": [
       "{'sharpe_ratio': -1.3412521153101198,\n",
       " 'return': -0.10081530523881628,\n",
       " 'max_drawdown': 9.635182408795602,\n",
       " 'win_trade': 'Undefined',\n",
       " 'loss_trade': 'Undefined',\n",
       " 'total_trade': 1,\n",
       " 'start_portfolio': 100,\n",
       " 'final_portfolio': 90.41}"
      ]
     },
     "execution_count": 4,
     "metadata": {},
     "output_type": "execute_result"
    }
   ],
   "source": [
    "cerebro=tester.prepare_cerebro(asset='BTC',strategy=TestStrategy,start_date=\"2021-10-01\",end_date=\"2022-10-19\")\n",
    "result=tester.run_test(cerebro)\n",
    "result"
   ]
  }
 ],
 "metadata": {
  "kernelspec": {
   "display_name": "Python 3.10.5 ('.venv': venv)",
   "language": "python",
   "name": "python3"
  },
  "language_info": {
   "codemirror_mode": {
    "name": "ipython",
    "version": 3
   },
   "file_extension": ".py",
   "mimetype": "text/x-python",
   "name": "python",
   "nbconvert_exporter": "python",
   "pygments_lexer": "ipython3",
   "version": "3.10.5"
  },
  "orig_nbformat": 4,
  "vscode": {
   "interpreter": {
    "hash": "62d730189be7850889c790c83bea1794c3785291d8e0ba347762d67ce4cce373"
   }
  }
 },
 "nbformat": 4,
 "nbformat_minor": 2
}
