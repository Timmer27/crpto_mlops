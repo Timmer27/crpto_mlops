{
 "cells": [
  {
   "cell_type": "code",
   "execution_count": 1,
   "metadata": {},
   "outputs": [],
   "source": [
    "import sys\n",
    "from sqlalchemy import text\n",
    "import json\n",
    "from sqlalchemy import create_engine\n"
   ]
  },
  {
   "cell_type": "code",
   "execution_count": 14,
   "metadata": {},
   "outputs": [],
   "source": [
    "host=\"melachallengedatabase.crlafpfc5g5y.us-east-1.rds.amazonaws.com\"\n",
    "db=\"changdb\"\n",
    "port=\"5432\"\n",
    "user=\"changuser\"\n",
    "passw = \"changpass\""
   ]
  },
  {
   "cell_type": "code",
   "execution_count": 15,
   "metadata": {},
   "outputs": [],
   "source": [
    "# engine = create_engine(f'postgresql://{user}@{host}/{db}')\n",
    "engine = create_engine(f'postgresql+psycopg2://{user}:{passw}@{host}:{port}/{db}')\n"
   ]
  },
  {
   "cell_type": "code",
   "execution_count": 12,
   "metadata": {},
   "outputs": [],
   "source": [
    "def get_connection():\n",
    "    engine = create_engine(f'postgresql+psycopg2://{user}:{passw}@{host}:{port}/{db}')\n",
    "    return engine"
   ]
  },
  {
   "cell_type": "markdown",
   "metadata": {},
   "source": [
    "### Queries\n",
    "\n",
    "### Show tables\n",
    "\n",
    "```SQL\n",
    "SELECT *\n",
    "FROM information_schema.tables\n",
    "WHERE table_schema = 'public'\n",
    "ORDER BY table_name;\n",
    "```\n",
    "\n",
    "### Create table\n",
    "\n",
    "```SQL\n",
    "CREATE TABLE t1(\n",
    "   id INT GENERATED ALWAYS AS IDENTITY,\n",
    "   c2 VARCHAR(255) NOT NULL,\n",
    "   PRIMARY KEY(id)\n",
    ");\n",
    "```\n",
    "### Reference Table\n",
    "\n",
    "```SQL\n",
    "CREATE TABLE t2(\n",
    "   id INT GENERATED ALWAYS AS IDENTITY,\n",
    "   t1_id INT,\n",
    "   c3 VARCHAR(255) NOT NULL,\n",
    "   c4 VARCHAR(15),\n",
    "   PRIMARY KEY(id),\n",
    "   CONSTRAINT fk_t1\n",
    "      FOREIGN KEY(t1_id) \n",
    "\t  REFERENCES t1(id)\n",
    ");\n",
    "```\n",
    "\n",
    "### select values\n",
    "\n",
    "```SQL\n",
    "SELECT select_list\n",
    "FROM table_name\n",
    "WHERE condition\n",
    "ORDER BY sort_expression\n",
    "```\n",
    "\n",
    "### insert values\n",
    "\n",
    "```SQL\n",
    "INSERT INTO table_name(column1, column2, …)\n",
    "VALUES (value1, value2, …);\n",
    "```\n",
    "\n"
   ]
  },
  {
   "cell_type": "code",
   "execution_count": 16,
   "metadata": {},
   "outputs": [
    {
     "name": "stdout",
     "output_type": "stream",
     "text": [
      "[]\n"
     ]
    }
   ],
   "source": [
    "query = \"\"\"\n",
    "        SELECT *\n",
    "FROM information_schema.tables\n",
    "WHERE table_schema = 'public'\n",
    "ORDER BY table_name;\n",
    "\"\"\"\n",
    "with engine.connect() as conn:\n",
    "                \n",
    "        # query = text(\"Show table\")\n",
    "        a=conn.execute(query)\n",
    "        print(a.fetchall())"
   ]
  },
  {
   "cell_type": "code",
   "execution_count": 21,
   "metadata": {},
   "outputs": [],
   "source": [
    "# query = \"\"\"\n",
    "# CREATE TABLE t1(\n",
    "#    id INT GENERATED ALWAYS AS IDENTITY,\n",
    "#    c2 VARCHAR(255) NOT NULL,\n",
    "#    PRIMARY KEY(id)\n",
    "# );\n",
    "        \n",
    "# \"\"\"\n",
    "# with engine.connect() as conn:\n",
    "                \n",
    "#         # query = text(\"Show table\")\n",
    "#         a=conn.execute(query)\n",
    "#         print(a.columns)"
   ]
  },
  {
   "cell_type": "code",
   "execution_count": null,
   "metadata": {},
   "outputs": [],
   "source": []
  }
 ],
 "metadata": {
  "kernelspec": {
   "display_name": "Python 3.10.7 64-bit",
   "language": "python",
   "name": "python3"
  },
  "language_info": {
   "codemirror_mode": {
    "name": "ipython",
    "version": 3
   },
   "file_extension": ".py",
   "mimetype": "text/x-python",
   "name": "python",
   "nbconvert_exporter": "python",
   "pygments_lexer": "ipython3",
   "version": "3.10.7"
  },
  "orig_nbformat": 4,
  "vscode": {
   "interpreter": {
    "hash": "949777d72b0d2535278d3dc13498b2535136f6dfe0678499012e853ee9abcab1"
   }
  }
 },
 "nbformat": 4,
 "nbformat_minor": 2
}
